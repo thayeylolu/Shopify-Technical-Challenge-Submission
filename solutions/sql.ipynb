{
 "cells": [
  {
   "cell_type": "markdown",
   "metadata": {},
   "source": [
    "**Author : Taiwo Owoseni** <br>\n",
    "**Category: SQL**<br>\n",
    "**Date : May 9th 2022**"
   ]
  },
  {
   "cell_type": "markdown",
   "metadata": {},
   "source": [
    "### Questions\n",
    "- How many orders were shipped by Speedy Express in total?\n",
    "- What is the last name of the employee with the most orders?\n",
    "- What product was ordered the most by customers in Germany?\n"
   ]
  },
  {
   "cell_type": "markdown",
   "metadata": {},
   "source": [
    ">QUESTION 1: How many orders were shipped by Speedy Express in total?"
   ]
  },
  {
   "cell_type": "markdown",
   "metadata": {},
   "source": [
    "```sql\n",
    "SELECT COUNT(*) as 'number of orders: '\n",
    "FROM Shippers sh\n",
    "JOIN  Orders o\n",
    "ON o.ShipperID = sh.ShipperID\n",
    "WHERE sh.ShipperName = 'Speedy Express';\n",
    "```"
   ]
  },
  {
   "cell_type": "markdown",
   "metadata": {},
   "source": [
    "**Result: 54**\n",
    "\n",
    "---"
   ]
  },
  {
   "cell_type": "markdown",
   "metadata": {},
   "source": [
    "> QUESTION 2: What is the last name of the employee with the most orders?"
   ]
  },
  {
   "cell_type": "markdown",
   "metadata": {},
   "source": [
    "```sql\n",
    "/* create the view seperately */\n",
    "\n",
    "CREATE VIEW count_orders_view AS\n",
    "SELECT e.EmployeeID, Count(o.OrderID) as \"no_order\"\n",
    "FROM Employees e\n",
    "JOIN Orders o\n",
    "ON e.EmployeeID = o.EmployeeID\n",
    "GROUP BY e.EmployeeID\n",
    "ORDER BY \"no_order\" DESC\n",
    "LIMIT 1;\n",
    "```\n",
    "\n",
    "```sql\n",
    "/* get LastName */\n",
    "\n",
    "SELECT e.LastName\n",
    "FROM Employees e,\n",
    "count_orders_view v\n",
    "WHERE v.EmployeeID = e.EmployeeID;\n",
    "```"
   ]
  },
  {
   "cell_type": "markdown",
   "metadata": {},
   "source": [
    "**Result : Peacock**\n",
    "\n",
    "---"
   ]
  },
  {
   "cell_type": "markdown",
   "metadata": {},
   "source": [
    "> Question 3: What product was ordered the most by customers in Germany?"
   ]
  },
  {
   "cell_type": "markdown",
   "metadata": {},
   "source": [
    "```sql\n",
    "/* All German Orders  */\n",
    "\n",
    "CREATE view german_orders_view AS\n",
    "\n",
    "SELECT o.OrderID\n",
    "FROM Orders o\n",
    "JOIN Customers c\n",
    "ON o.CustomerID = c.CustomerID\n",
    "WHERE c.Country = 'Germany';\n",
    "```\n",
    "\n",
    "```sql\n",
    "/* productID ordered the most in Germany */\n",
    "\n",
    "CREATE VIEW prod_bought_in_germany_view AS \n",
    "\n",
    "SELECT ProductID\n",
    "FROM OrderDetails\n",
    "WHERE orderID IN (SELECT orderID from german_orders_view)\n",
    "GROUP BY ProductID\n",
    "ORDER BY COUNT(orderID) DESC\n",
    "LIMIT 1;\n",
    "```\n",
    "\n",
    "```sql\n",
    "/* productName ordered the most in Germany */\n",
    "\n",
    "SELECT p.ProductName\n",
    "FROM Products p, prod_bought_in_germany_view pbg\n",
    "WHERE pbg.ProductID = p.ProductID;\n",
    "```"
   ]
  },
  {
   "cell_type": "markdown",
   "metadata": {},
   "source": [
    "Result : **Gorgonzola Telino**"
   ]
  },
  {
   "cell_type": "markdown",
   "metadata": {},
   "source": []
  }
 ],
 "metadata": {
  "interpreter": {
   "hash": "5740260e209e552efc13becddf7780650971b9c6fe78379f41899e27cf7c342c"
  },
  "kernelspec": {
   "display_name": "Python 3.9.7 ('531')",
   "language": "python",
   "name": "python3"
  },
  "language_info": {
   "codemirror_mode": {
    "name": "ipython",
    "version": 3
   },
   "file_extension": ".py",
   "mimetype": "text/x-python",
   "name": "python",
   "nbconvert_exporter": "python",
   "pygments_lexer": "ipython3",
   "version": "3.9.7"
  },
  "orig_nbformat": 4
 },
 "nbformat": 4,
 "nbformat_minor": 2
}
